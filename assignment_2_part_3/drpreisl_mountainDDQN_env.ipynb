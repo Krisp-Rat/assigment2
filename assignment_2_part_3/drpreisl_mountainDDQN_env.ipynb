{
 "cells": [
  {
   "cell_type": "code",
   "execution_count": 56,
   "metadata": {
    "ExecuteTime": {
     "end_time": "2024-10-31T19:01:51.775833Z",
     "start_time": "2024-10-31T19:01:51.771501Z"
    },
    "collapsed": false
   },
   "outputs": [
    {
     "name": "stdout",
     "output_type": "stream",
     "text": [
      "cuda\n"
     ]
    }
   ],
   "source": [
    "import random\n",
    "import math\n",
    "# Install required libraries\n",
    "# Import required libraries\n",
    "import gymnasium as gym\n",
    "from gymnasium import spaces\n",
    "import matplotlib.pyplot as plt\n",
    "import numpy as np\n",
    "import pickle\n",
    "import torch\n",
    "import torch.nn as nn\n",
    "import torch.nn.functional as F\n",
    "import torch.optim as optim\n",
    "from collections import namedtuple, deque\n",
    "device = torch.device(\n",
    "    \"cuda\" if torch.cuda.is_available() else\n",
    "    \"cpu\"\n",
    ")\n",
    "\n",
    "print(device)\n",
    "CUDA_LAUNCH_BLOCKING=1"
   ]
  },
  {
   "cell_type": "code",
   "execution_count": 57,
   "metadata": {},
   "outputs": [],
   "source": [
    "class Net(nn.Module):\n",
    "\n",
    "    def __init__(self, obs, action):\n",
    "        super(Net, self).__init__()\n",
    "        self.layer1 = nn.Linear(obs, 128)\n",
    "        self.layer2 = nn.Linear(128, 128)\n",
    "        self.layer3 = nn.Linear(128, action)\n",
    "\n",
    "    def forward(self, x):\n",
    "        x = F.relu(self.layer1(x))\n",
    "        x = F.relu(self.layer2(x))\n",
    "        return self.layer3(x)\n",
    "    "
   ]
  },
  {
   "cell_type": "code",
   "execution_count": 58,
   "metadata": {
    "ExecuteTime": {
     "end_time": "2024-10-31T19:14:53.327192Z",
     "start_time": "2024-10-31T19:14:53.315948Z"
    },
    "collapsed": false
   },
   "outputs": [],
   "source": [
    "class DQN:\n",
    "  # initialize values\n",
    "  def __init__(self, N, env):\n",
    "    # initialize environment\n",
    "    self.env = env\n",
    "    state, info = self.env.reset()\n",
    "    # initialize replay memory to capacity N\n",
    "    self.pointer = 0\n",
    "    self.policy_net = Net(len(state), self.env.action_space.n).to(device)\n",
    "    self.target_net = Net(len(state), self.env.action_space.n).to(device)\n",
    "    self.target_net.load_state_dict(self.policy_net.state_dict())\n",
    "    self.optimizer = optim.AdamW(self.policy_net.parameters(),amsgrad=True ) #auto learning rate\n",
    "    # big replay memory:\n",
    "    self.size = N\n",
    "    self.state_mem = torch.zeros((N, self.env.observation_space.shape[0]), dtype=torch.float32, device=device)\n",
    "    self.next_state_mem = torch.zeros((self.size, self.env.observation_space.shape[0]), dtype=torch.float32, device=device)\n",
    "    self.action_mem = torch.zeros(self.size, dtype=torch.int64, device=device)\n",
    "    self.reward_mem = torch.zeros(self.size, dtype=torch.float32, device=device)\n",
    "    self.done_mem = torch.zeros(self.size, dtype=torch.float32, device=device)\n",
    "    self.pointer = 0\n",
    "\n",
    "  def append(self, state, action, reward, next_state, done):\n",
    "    i = self.pointer % self.size #get index\n",
    "    self.state_mem[i] = state\n",
    "    self.next_state_mem[i] = next_state\n",
    "    self.reward_mem[i] = reward \n",
    "    self.done_mem[i] = 1 - int(done)\n",
    "    self.action_mem[i] = action\n",
    "    self.pointer +=1\n",
    "    \n",
    "  def sample(self,batch):\n",
    "    mem = min(self.pointer,self.size) # get range to choose mem from\n",
    "    batch = np.random.choice(mem,batch) # choose random indices\n",
    "    states = self.state_mem[batch]\n",
    "    next_states = self.next_state_mem[batch]\n",
    "    actions = self.action_mem[batch]\n",
    "    rewards = self.reward_mem[batch]\n",
    "    done = self.done_mem[batch]\n",
    "    return states, actions, rewards, next_states, done\n",
    "\n",
    "\n",
    "\n",
    "\n",
    "  \n",
    "  # Main training function\n",
    "  def train(self, episodes, epsilon, discount, action_function, greedy):\n",
    "    total_reward = [0] * episodes  \n",
    "    TAU = .0004\n",
    "    sum = 0\n",
    "    for i in range(episodes):\n",
    "      \n",
    "      # self.target_net.load_state_dict(self.policy_net.state_dict())\n",
    "      # initialize sequence S and preprocessed sequence o\n",
    "      seq  = [None , None]\n",
    "      state, info = self.env.reset()\n",
    "      seq[0] = torch.tensor(state, dtype=torch.float32, device=device).unsqueeze(0)\n",
    "      done = False\n",
    "      rewards = 0\n",
    "      eps = epsilon ** i if not greedy else 0\n",
    "      eps = max(eps, 0.01)\n",
    "      # if i%2==0:  \n",
    "      #   self.target_net.load_state_dict(self.policy_net.state_dict())\n",
    "      while not done:\n",
    "        # Select action\n",
    "        action_type = action_function(seq[0], eps)\n",
    "        observation, reward, terminated, truncated, _ = self.env.step(action_type.item())\n",
    "        rewards += reward\n",
    "        state = torch.tensor(observation, device=device, dtype=torch.float32).unsqueeze(0)\n",
    "        seq[1] = state\n",
    "        # if terminated == False:\n",
    "        #   reward = 100*((math.sin(3*seq[1][0,0])*0.0025+0.05*seq[1][0,1]*seq[1][0,1])-(math.sin(3*seq[0][0,0])*0.0025+0.5*seq[0][0,1]*seq[0][0,1]))\n",
    "        # print(reward)\n",
    "        # Set sequence\n",
    "        self.append(state=seq[0], action=action_type, reward=reward, next_state=seq[1], done=terminated)\n",
    "        if terminated:\n",
    "           seq[1] = None\n",
    "        # store transition in replay buffer\n",
    "        seq[0] = state\n",
    "        self.r(discount)\n",
    "        if self.pointer%5==0:\n",
    "           self.target_net.load_state_dict(self.policy_net.state_dict())\n",
    "        # if self.pointer%5 == 0:\n",
    "        #   target_net_state_dict = self.target_net.state_dict()\n",
    "        #   policy_net_state_dict = self.policy_net.state_dict()    \n",
    "        #   for key in policy_net_state_dict:\n",
    "        #       target_net_state_dict[key] = policy_net_state_dict[key]* TAU + target_net_state_dict[key]*(1- TAU)\n",
    "        #   self.target_net.load_state_dict(target_net_state_dict)\n",
    "\n",
    "        done = truncated or terminated\n",
    "      # Decay epsilon after every episode\n",
    "      # epsilon *= epsilon\n",
    "      total_reward[i] = rewards  \n",
    "      if rewards >-110:\n",
    "         sum +=0\n",
    "      else:\n",
    "         sum = 0\n",
    "      if sum>10:\n",
    "         break\n",
    "\n",
    "    return total_reward\n",
    "  # Determine the action for the warehouse environment\n",
    "      \n",
    "  def action(self, state, epsilon):\n",
    "    if np.random.rand() < epsilon:\n",
    "        action_type = self.env.action_space.sample()\n",
    "    else:\n",
    "        # select max(Q)\n",
    "        with torch.no_grad():\n",
    "            return self.policy_net(state).max(1).indices.view(1, 1) \n",
    "    return torch.tensor([[action_type]], device=device, dtype=torch.long)\n",
    "        \n",
    "  def r(self,discount):\n",
    "      BATCH_SIZE = 256\n",
    "      if self.pointer < BATCH_SIZE:\n",
    "          return\n",
    "      # Sample a batch from replay memory\n",
    "      states, actions, rewards, next_states, dones = self.sample(BATCH_SIZE)\n",
    "      \n",
    "      # Convert to tensors\n",
    "      state_batch = torch.tensor(states, dtype=torch.float32, device=device)\n",
    "      action_batch = torch.tensor(actions, dtype=torch.int64, device=device).unsqueeze(1)\n",
    "      reward_batch = torch.tensor(rewards, dtype=torch.float32, device=device)\n",
    "      next_state_batch = torch.tensor(next_states, dtype=torch.float32, device=device)\n",
    "      done_mask = torch.tensor(dones, dtype=torch.float32, device=device) # zeros out terminated\n",
    "      \n",
    "      # Calculate state-action values\n",
    "      state_action_values = self.policy_net(state_batch).gather(1, action_batch)\n",
    "      \n",
    "      # Calculate next state values\n",
    "      next_state_values = torch.zeros(BATCH_SIZE, device=device)\n",
    "      with torch.no_grad():\n",
    "        policy_indices = self.policy_net(next_state_batch[done_mask.bool()]).max(1).indices\n",
    "        next_state_values[done_mask.bool()] = self.target_net(next_state_batch[done_mask.bool()]).gather(1, policy_indices.unsqueeze(1)).squeeze(1)\n",
    "      \n",
    "      # Expected Q values\n",
    "      expected_state_action_values = (next_state_values * discount) + reward_batch\n",
    "      \n",
    "      # Compute loss\n",
    "      criterion = nn.SmoothL1Loss()\n",
    "      loss = criterion(state_action_values, expected_state_action_values.unsqueeze(1))\n",
    "      \n",
    "      # Optimize the model\n",
    "      self.optimizer.zero_grad()\n",
    "      loss.backward()\n",
    "      self.optimizer.step()\n",
    "\n",
    "  \n",
    "  # Save the current weights\n",
    "  def save(self, filename):\n",
    "    with open(filename, 'wb') as file:\n",
    "      pickle.dump(self.policy_net.state_dict(), file,protocol=pickle.HIGHEST_PROTOCOL)"
   ]
  },
  {
   "cell_type": "code",
   "execution_count": 59,
   "metadata": {
    "ExecuteTime": {
     "end_time": "2024-10-31T19:19:10.107111Z",
     "start_time": "2024-10-31T19:19:10.101012Z"
    },
    "collapsed": false
   },
   "outputs": [],
   "source": [
    "#Prints the reward per epsisode graph\n",
    "def reward_print(reward_per_episode, episodes, info): \n",
    "    mins = int(min(reward_per_episode)) - int(min(reward_per_episode)) * (.15)\n",
    "    maxs = int(max(reward_per_episode)) + int(max(reward_per_episode)) * (.3) \n",
    "    plt.figure()\n",
    "    plt.plot(reward_per_episode)\n",
    "    plt.xlabel('Episode', fontsize=20)\n",
    "    plt.ylabel('Cumulative Reward', fontsize=20)\n",
    "    plt.title(f'Cumulative Reward Per Episode ({info})', fontsize=24)\n",
    "    plt.xticks([0, episodes * .2, episodes * .4, episodes * .6, episodes * .8, episodes], fontsize=18)\n",
    "    plt.yticks(fontsize=18)\n",
    "    # plt.ylim(ymin= mins, ymax=maxs)\n",
    "    plt.xlim(xmin=0, xmax=episodes)\n",
    "    plt.grid()\n",
    "    plt.show()\n",
    "\n",
    "#prints the epsilon decay graph\n",
    "def ep_decay(eps, episodes):\n",
    "    epsilon_values = [(eps ** i) * 1 for i in range(episodes)]\n",
    "    plt.figure()\n",
    "    plt.plot(epsilon_values, linewidth=4)\n",
    "    plt.xlabel('Episode', fontsize=20)\n",
    "    plt.ylabel('Epsilon Value', fontsize=20)\n",
    "    plt.title(f\"Epsilon Decay for {eps}\", fontsize=24)\n",
    "    plt.xticks([0, episodes * .2, episodes * .4, episodes * .6, episodes * .8, episodes], fontsize=18)\n",
    "    plt.yticks(fontsize=18)\n",
    "    plt.ylim(ymin=0, ymax=1)\n",
    "    plt.xlim(xmin=0, xmax=episodes)\n",
    "    plt.grid()\n",
    "    plt.show()\n"
   ]
  },
  {
   "cell_type": "code",
   "execution_count": null,
   "metadata": {
    "ExecuteTime": {
     "end_time": "2024-10-31T19:29:55.191731Z",
     "start_time": "2024-10-31T19:29:40.566273Z"
    },
    "collapsed": false
   },
   "outputs": [
    {
     "name": "stderr",
     "output_type": "stream",
     "text": [
      "C:\\Users\\corvi\\AppData\\Local\\Temp\\ipykernel_6008\\583929128.py:120: UserWarning: To copy construct from a tensor, it is recommended to use sourceTensor.clone().detach() or sourceTensor.clone().detach().requires_grad_(True), rather than torch.tensor(sourceTensor).\n",
      "  state_batch = torch.tensor(states, dtype=torch.float32, device=device)\n",
      "C:\\Users\\corvi\\AppData\\Local\\Temp\\ipykernel_6008\\583929128.py:121: UserWarning: To copy construct from a tensor, it is recommended to use sourceTensor.clone().detach() or sourceTensor.clone().detach().requires_grad_(True), rather than torch.tensor(sourceTensor).\n",
      "  action_batch = torch.tensor(actions, dtype=torch.int64, device=device).unsqueeze(1)\n",
      "C:\\Users\\corvi\\AppData\\Local\\Temp\\ipykernel_6008\\583929128.py:122: UserWarning: To copy construct from a tensor, it is recommended to use sourceTensor.clone().detach() or sourceTensor.clone().detach().requires_grad_(True), rather than torch.tensor(sourceTensor).\n",
      "  reward_batch = torch.tensor(rewards, dtype=torch.float32, device=device)\n",
      "C:\\Users\\corvi\\AppData\\Local\\Temp\\ipykernel_6008\\583929128.py:123: UserWarning: To copy construct from a tensor, it is recommended to use sourceTensor.clone().detach() or sourceTensor.clone().detach().requires_grad_(True), rather than torch.tensor(sourceTensor).\n",
      "  next_state_batch = torch.tensor(next_states, dtype=torch.float32, device=device)\n",
      "C:\\Users\\corvi\\AppData\\Local\\Temp\\ipykernel_6008\\583929128.py:124: UserWarning: To copy construct from a tensor, it is recommended to use sourceTensor.clone().detach() or sourceTensor.clone().detach().requires_grad_(True), rather than torch.tensor(sourceTensor).\n",
      "  done_mask = torch.tensor(dones, dtype=torch.float32, device=device) # zeros out terminated\n"
     ]
    }
   ],
   "source": [
    "\n",
    "N = 20000\n",
    "env = gym.make(\"MountainCar-v0\")\n",
    "env.reset()\n",
    "MtnCar = DQN(N, env)\n",
    "\n",
    "episodes = 1000\n",
    "epsilon = .9\n",
    "discount = .99\n",
    "action = MtnCar.action\n",
    "total_rewards = MtnCar.train(episodes, epsilon, discount, action, False)\n",
    "# MtnCar.save(\"drpreisl_angustsa_assignment2_part2_dqn_mountaincar.pickle\")\n",
    "reward_print(total_rewards, episodes, \"MountainCar\")\n",
    "ep_decay(epsilon, episodes)\n",
    "total_rewards = MtnCar.train(6, epsilon, discount, action, True)\n",
    "reward_print(total_rewards, 5, \"MountainCar\")"
   ]
  },
  {
   "cell_type": "markdown",
   "metadata": {},
   "source": []
  },
  {
   "cell_type": "code",
   "execution_count": null,
   "metadata": {},
   "outputs": [
    {
     "name": "stderr",
     "output_type": "stream",
     "text": [
      "C:\\Users\\corvi\\AppData\\Local\\Temp\\ipykernel_6008\\1658571523.py:120: UserWarning: To copy construct from a tensor, it is recommended to use sourceTensor.clone().detach() or sourceTensor.clone().detach().requires_grad_(True), rather than torch.tensor(sourceTensor).\n",
      "  state_batch = torch.tensor(states, dtype=torch.float32, device=device)\n",
      "C:\\Users\\corvi\\AppData\\Local\\Temp\\ipykernel_6008\\1658571523.py:121: UserWarning: To copy construct from a tensor, it is recommended to use sourceTensor.clone().detach() or sourceTensor.clone().detach().requires_grad_(True), rather than torch.tensor(sourceTensor).\n",
      "  action_batch = torch.tensor(actions, dtype=torch.int64, device=device).unsqueeze(1)\n",
      "C:\\Users\\corvi\\AppData\\Local\\Temp\\ipykernel_6008\\1658571523.py:122: UserWarning: To copy construct from a tensor, it is recommended to use sourceTensor.clone().detach() or sourceTensor.clone().detach().requires_grad_(True), rather than torch.tensor(sourceTensor).\n",
      "  reward_batch = torch.tensor(rewards, dtype=torch.float32, device=device)\n",
      "C:\\Users\\corvi\\AppData\\Local\\Temp\\ipykernel_6008\\1658571523.py:123: UserWarning: To copy construct from a tensor, it is recommended to use sourceTensor.clone().detach() or sourceTensor.clone().detach().requires_grad_(True), rather than torch.tensor(sourceTensor).\n",
      "  next_state_batch = torch.tensor(next_states, dtype=torch.float32, device=device)\n",
      "C:\\Users\\corvi\\AppData\\Local\\Temp\\ipykernel_6008\\1658571523.py:124: UserWarning: To copy construct from a tensor, it is recommended to use sourceTensor.clone().detach() or sourceTensor.clone().detach().requires_grad_(True), rather than torch.tensor(sourceTensor).\n",
      "  done_mask = torch.tensor(dones, dtype=torch.float32, device=device) # zeros out terminated\n"
     ]
    },
    {
     "data": {
      "image/png": "[encoded data removed]",
      "text/plain": [
       "<Figure size 640x480 with 1 Axes>"
      ]
     },
     "metadata": {},
     "output_type": "display_data"
    },
    {
     "name": "stdout",
     "output_type": "stream",
     "text": [
      "[-200.0, -200.0, -200.0, -200.0, -200.0, -200.0]\n"
     ]
    }
   ],
   "source": [
    "# MtnCar.save(\"drpreisl_angustsa_assignment2_part2_dqn_mountaincar.pickle\")\n",
    "total_rewards = MtnCar.train(6, epsilon, discount, action, True)\n",
    "reward_print(total_rewards, 5, \"MountainCar\")\n",
    "print(total_rewards)"
   ]
  },
  {
   "cell_type": "code",
   "execution_count": null,
   "metadata": {
    "ExecuteTime": {
     "end_time": "2024-10-31T21:41:36.703999Z",
     "start_time": "2024-10-31T21:41:36.241784Z"
    },
    "collapsed": false
   },
   "outputs": [],
   "source": [
    "# N = 5000\n",
    "# env = gym.make(\"CartPole-v1\")\n",
    "# env.reset()\n",
    "# cart = DQN(N, env)\n",
    "\n",
    "# episodes = 600\n",
    "# epsilon = .8\n",
    "# discount = .99\n",
    "# action = cart.mountain_car_action\n",
    "# total_rewards = cart.train(episodes, epsilon, discount, action, False)\n",
    "# # cart.save(\"drpreisl_angustsa_assignment2_part2_dqn_cartpole.pickle\")\n",
    "# reward_print(total_rewards, episodes, \"CartPole\")\n",
    "# ep_decay(epsilon, episodes)\n",
    "# total_rewards = cart.train(6, epsilon, discount, action, True)\n",
    "# reward_print(total_rewards, 5, \"CartPole\")"
   ]
  }
 ],
 "metadata": {
  "kernelspec": {
   "display_name": "Python 3",
   "language": "python",
   "name": "python3"
  },
  "language_info": {
   "codemirror_mode": {
    "name": "ipython",
    "version": 3
   },
   "file_extension": ".py",
   "mimetype": "text/x-python",
   "name": "python",
   "nbconvert_exporter": "python",
   "pygments_lexer": "ipython3",
   "version": "3.12.7"
  }
 },
 "nbformat": 4,
 "nbformat_minor": 0
}
