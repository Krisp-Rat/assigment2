{
 "cells": [
  {
   "cell_type": "markdown",
   "id": "9c0d943c",
   "metadata": {},
   "source": [
    "## <center>CSE 546: Reinforcement Learning</center>\n",
    "### <center>Prof. Alina Vereshchaka</center>\n",
    "<!-- ### <center>Fall 2022</center> -->\n",
    "\n",
    "Welcome to the Assignment 2, Part 1: Introduction to Deep Reinforcement Learning and Neural Networks! The goal of this assignment is to make you comfortable with the application of different Neural Network structures depending on how the Reinforcement Learning environment is set up."
   ]
  },
  {
   "cell_type": "code",
   "execution_count": 10,
   "id": "c0fc19e1",
   "metadata": {
    "ExecuteTime": {
     "end_time": "2024-09-24T11:30:19.772012Z",
     "start_time": "2024-09-24T11:30:13.828260Z"
    }
   },
   "outputs": [],
   "source": [
    "# Imports\n",
    "from environment import WumpusWorldEnvironment"
   ]
  },
  {
   "cell_type": "markdown",
   "id": "87890afd",
   "metadata": {},
   "source": [
    "# Environment"
   ]
  },
  {
   "cell_type": "markdown",
   "id": "b9dc8362",
   "metadata": {},
   "source": [
    "We will be working with an implementation of the Wumpus World environment. The environment comes from the book \"Artificial Intelligence: A Modern Approach\" by Stuart J. Russell and Peter Norvig. \n",
    "\n",
    "### ENVIRONMENT DETAILS:\n",
    "\n",
    "The environment is a 6 x 6 grid world containing a total of 36 grid blocks. \n",
    "\n",
    "#### ENVIRONMENT OBJECTS:\n",
    "The environment consists of the following objects:\n",
    "\n",
    "1. **Agent** - The agent starts in the grid block at the bottom left corner whose co-ordinates are [0, 0]. The goal of our agent is to collect the Gold while avoiding the Wumpus and the pits. \n",
    "\n",
    "2. **Wumpus** - The monster which would eat the agent if they are in the same grid block.\n",
    "\n",
    "3. **Pit** - The agent must avoid falling into the pits. \n",
    "\n",
    "4. **Gold** - The agent must collect the Gold.\n",
    "\n",
    "5. **Breeze** - Breeze surrounds the Pits and warn the agent of a Pit in an adjacent grid block.\n",
    "\n",
    "6. **Stench** - Stench surrounds the Wumpus and warns the agent of the Wumpus in an adjacent grid block.\n",
    "\n",
    "#### ENVIRONMENT OBSERVATIONS:\n",
    "\n",
    "Our implementation of the environment provides you with four different types of observations:\n",
    "\n",
    "1. **Integer** - Integer in the range [0 - 35]. This represents the grid block the agent is in. E.g., if the agent is in the bottom left grid block (starting position) the observation would be 0, if the agent is in the grid block containing the Gold the observation would be 34, if the agent is in the top right grid block the observation would be 35.\n",
    "\n",
    "2. **Vector** - \n",
    "\n",
    "    **2.1.** A vector of length 2 representing the agent co-ordinates. The first entry represents the x co-ordinate and the second entry represets the y co-ordinate. E.g., if the agent is in the bottom left grid block (starting position) the observation would be [0, 0], if the agent is in the grid block containing the Gold the observation would be [4, 5], if the agent is in the top right grid block the observation would be [5, 5].\n",
    "    \n",
    "    **2.2.** A vector of length 36 representing the one-hot encoding of the integer observation (refer type 1 above). E.g., if the agent is in the bottom left grid block (starting position) the observation would be [1, 0, ..., 0, 0], if the agent is in the grid block containing the Gold the observation would be [0, 0, ..., 1, 0], if the agent is in the top right grid block the observation would be [0, 0, ..., 0, 1].\n",
    "\n",
    "\n",
    "3. **Image** - Image render of the environment returned as an NumPy array. The image size is 84 * 84 (same size used in the DQN paper). E.g., if the agent is in the bottom right grid block the observation is:\n",
    "\n",
    "    Observation: (84 * 84)\n",
    "\n",
    "     [[255 255 255 ... 255 255 255]\n",
    "\n",
    "     [255 255 255 ... 255 255 255]\n",
    "\n",
    "     [255 255 255 ... 255 255 255]\n",
    "\n",
    "     ...\n",
    "\n",
    "     [255 255 255 ... 255 255 255]\n",
    "\n",
    "     [255 255 255 ... 255 255 255]\n",
    "\n",
    "     [255 255 255 ... 255 255 255]]\n",
    "\n",
    "    Observation type: <class 'numpy.ndarray'>\n",
    "\n",
    "    Observation Shape: (84, 84)\n",
    "\n",
    "    Visually, it looks like:\n",
    "    <img src=\"./images/environment_render.png\" width=\"500\" height=\"500\">\n",
    "    \n",
    "\n",
    "4. **Float** - Float in the range [0 - $\\infty$] representing the time elapsed in seconds. \n",
    "\n",
    "#### ENVIRONMENT ACTIONS:\n",
    "\n",
    "Our implementation of the environment provides you with three different types of actions:\n",
    "\n",
    "1. **Discrete** - Integer in the range [0 - 3] representing the four actions possible in the environment as follows: 0 - Right 1 - Left 2 - Up 3 - Down.\n",
    "\n",
    "2. **Multi-Discrete** - Array of length four where each element takes binary values 0 or 1. Array elements represent if we take a particular action. Array element with index 0 corresponds to the right action, index 1 corresponds to the left action, index 2 corresponds to the up action, and index 3 corresponds to the down action. E.g., \n",
    "   action = [1, 0, 0, 0] would result in the agent moving right.\n",
    "   action = [1, 0, 1, 0] would result in the agent moving right and up.\n",
    "   action = [0, 1, 0, 1] would result in the agent moving left and down.\n",
    "\n",
    "3. **Continuous** - Float in the range [-1, 1] determining whether the agent will go left, right, up, or down as follows:\n",
    "\n",
    "    if -1 <= action <= -0.5:\n",
    "        Go Right.\n",
    "    elif -0.5 < action <= 0:\n",
    "        Go Left.\n",
    "    elif 0 < action <= 0.5:\n",
    "        Go Up.\n",
    "    elif 0.5 < action <= 1:\n",
    "        Go Down.\n",
    "        \n",
    "### YOUR TASK IS TO USE A NEURAL NETWORK TO WORK WITH ALL FOUR TYPES OF OBSERVATIONS AND ALL THREE TYPES OF  ACTIONS.\n",
    "### Note: You don't have to train your agent/neural network. You just have to build the neural network structure that takes the observation as input and produces the desired output with the initial weights.\n",
    "\n",
    "#### You can use libraries such as PyTorch/TensorFlow/Keras to build your neural networks.\n",
    "\n",
    "#### <span style=\"color:red\">You cannot use RL libraries that already provide the neural network to you such as Stable-baselines3, Keras-RL, TF agents, Ray RLLib etc.</span>"
   ]
  },
  {
   "cell_type": "markdown",
   "id": "a6deebbb",
   "metadata": {},
   "source": [
    "<img src=\"./images/wumpus_world_environment.jpg\" width=\"600\" height=\"600\">"
   ]
  },
  {
   "cell_type": "markdown",
   "id": "f2f11e24",
   "metadata": {},
   "source": [
    "# START COMPLETING YOUR ASSIGNMENT HERE"
   ]
  },
  {
   "cell_type": "markdown",
   "id": "729a8768",
   "metadata": {},
   "source": [
    "## Observation Type - Integer, Action Type - Discrete\n",
    "\n",
    "The part of the assignment requires you to create a sequential dense neural network with 1 hidden layer having 64 neurons and the output layer having 4 neurons. The input to the neural network is an integer (refer to environment observations type 1). The output of the neural network is an array represeting the Q-values from which you will choose an action (refer to environment actions type 1)."
   ]
  },
  {
   "cell_type": "markdown",
   "id": "c596cb95",
   "metadata": {},
   "source": [
    "The following figure shows the network structure you will have to use:\n",
    "\n",
    "<img src=\"./images/neural_network_structures/neural_network_1_64_4.png\">"
   ]
  },
  {
   "cell_type": "code",
   "execution_count": 28,
   "id": "7b1f4da4",
   "metadata": {
    "ExecuteTime": {
     "end_time": "2024-09-24T11:30:19.791112Z",
     "start_time": "2024-09-24T11:30:19.782559Z"
    }
   },
   "outputs": [
    {
     "name": "stdout",
     "output_type": "stream",
     "text": [
      " info {}\n",
      "Net(\n",
      "  (fc1): Linear(in_features=1, out_features=64, bias=True)\n",
      "  (fc2): Linear(in_features=64, out_features=4, bias=True)\n",
      ")\n",
      "obs: 0\n",
      "Values: tensor([-0.0648,  0.1647,  0.0029,  0.0395], grad_fn=<ViewBackward0>)\n"
     ]
    }
   ],
   "source": [
    "\"\"\"TO DO: Create a neural network, pass it the observation from the environment\n",
    "and get the predicted Q-values for the four actions. Print the observation and the Q-values.\"\"\"\n",
    "import torch\n",
    "import torch.nn as nn\n",
    "import torch.nn.functional as F\n",
    "\n",
    "environment = WumpusWorldEnvironment(observation_type='integer', action_type='discrete')\n",
    "observation, info = environment.reset()\n",
    "\n",
    "# BEGIN_YOUR_CODE\n",
    "class Net(nn.Module):\n",
    "\n",
    "    def __init__(self):\n",
    "        super(Net, self).__init__()\n",
    "        self.fc1 = nn.Linear(1 , 64)  \n",
    "        self.fc2 = nn.Linear(64, 4)\n",
    "        \n",
    "    def forward(self, input):\n",
    "        t = torch.tensor([float(input)])\n",
    "        output = F.relu(self.fc1(t))\n",
    "        output = self.fc2(output)\n",
    "        return output\n",
    "\n",
    "print(' info', info)\n",
    "n = Net()\n",
    "print(n)\n",
    "# print(type(observation))\n",
    "r =n.forward(observation)\n",
    "print('obs:',observation)\n",
    "print('Values:',r)\n",
    "\n",
    "# END_YOUR_CODE"
   ]
  },
  {
   "cell_type": "markdown",
   "id": "2bb8286a",
   "metadata": {},
   "source": []
  },
  {
   "cell_type": "markdown",
   "id": "b2b233bb",
   "metadata": {},
   "source": [
    "## Observation Type - Vector (2.1), Action Type - Discrete\n",
    "\n",
    "The part of the assignment requires you to create a sequential dense neural network with 1 hidden layer having 64 neurons and the output layer having 4 neurons. The input to the neural network is a vector of length 2 (refer to environment observations type 2.1). The output of the neural network is an array represeting the Q-values from which you will choose an action (refer to environment actions type 1)."
   ]
  },
  {
   "cell_type": "markdown",
   "id": "0e9c4873",
   "metadata": {},
   "source": [
    "The following figure shows the network structure you will have to use:\n",
    "\n",
    "<img src=\"./images/neural_network_structures/neural_network_2_64_4.png\">"
   ]
  },
  {
   "cell_type": "code",
   "execution_count": 12,
   "id": "10d985b5",
   "metadata": {
    "ExecuteTime": {
     "end_time": "2024-09-24T11:30:20.039771Z",
     "start_time": "2024-09-24T11:30:20.032436Z"
    }
   },
   "outputs": [
    {
     "name": "stdout",
     "output_type": "stream",
     "text": [
      " info {}\n",
      "Net(\n",
      "  (fc1): Linear(in_features=2, out_features=64, bias=True)\n",
      "  (fc2): Linear(in_features=64, out_features=4, bias=True)\n",
      ")\n",
      "obs: [0 0]\n",
      "Values: tensor([[-0.1782,  0.1377, -0.2341,  0.0529]], grad_fn=<AddmmBackward0>)\n"
     ]
    }
   ],
   "source": [
    "\"\"\"TO DO: Create a neural network, pass it the observation from the environment\n",
    "and get the predicted Q-values for the four actions. Print the observation and the Q-values.\"\"\"\n",
    "import torch\n",
    "import torch.nn as nn\n",
    "import torch.nn.functional as F\n",
    "environment = WumpusWorldEnvironment(observation_type='vector', action_type='discrete')\n",
    "observation, info = environment.reset()\n",
    "\n",
    "# BEGIN_YOUR_CODE\n",
    "\n",
    "class Net(nn.Module):\n",
    "\n",
    "    def __init__(self):\n",
    "        super(Net, self).__init__()\n",
    "        self.fc1 = nn.Linear(2 , 64)  \n",
    "        self.fc2 = nn.Linear(64, 4)\n",
    "        \n",
    "    def forward(self, input):\n",
    "        input = [float(x) for x in input]\n",
    "        t = torch.tensor([input])\n",
    "        output = F.relu(self.fc1(t))\n",
    "        output = self.fc2(output)\n",
    "        return output\n",
    "\n",
    "print(' info', info)\n",
    "n = Net()\n",
    "print(n)\n",
    "# print(type(observation))\n",
    "r =n.forward(observation)\n",
    "print('obs:',observation)\n",
    "print('Values:',r)\n",
    "\n",
    "# END_YOUR_CODE"
   ]
  },
  {
   "cell_type": "markdown",
   "id": "a8957b9f",
   "metadata": {},
   "source": [
    "## Observation Type - Vector (2.2), Action Type - Discrete\n",
    "\n",
    "The part of the assignment requires you to create a sequential dense neural network with 1 hidden layer having 64 neurons and the output layer having 4 neurons. The input to the neural network is a vector of length 36 (refer to environment observations type 2.2). The output of the neural network is an array represeting the Q-values from which you will choose an action (refer to environment actions type 1).\n",
    "\n",
    "**HINT:** Use the integer observation and convert it to a one-hot encoded vector."
   ]
  },
  {
   "cell_type": "markdown",
   "id": "470cf5f8",
   "metadata": {},
   "source": [
    "The following figure shows the network structure you will have to use:\n",
    "\n",
    "<img src=\"./images/neural_network_structures/neural_network_36_64_4.png\">"
   ]
  },
  {
   "cell_type": "code",
   "execution_count": 27,
   "id": "ae05b09e",
   "metadata": {
    "ExecuteTime": {
     "end_time": "2024-09-24T11:30:20.058979Z",
     "start_time": "2024-09-24T11:30:20.051638Z"
    }
   },
   "outputs": [
    {
     "name": "stdout",
     "output_type": "stream",
     "text": [
      " info {}\n",
      "Net(\n",
      "  (fc1): Linear(in_features=36, out_features=64, bias=True)\n",
      "  (fc2): Linear(in_features=64, out_features=4, bias=True)\n",
      ")\n",
      "obs: 0\n",
      "Values: tensor([[ 0.0079, -0.1280, -0.1043,  0.0704]], grad_fn=<AddmmBackward0>)\n"
     ]
    }
   ],
   "source": [
    "\"\"\"TO DO: Create a neural network, pass it the observation from the environment\n",
    "and get the predicted Q-values for the four actions. Print the observation and the Q-values.\"\"\"\n",
    "import torch\n",
    "import torch.nn as nn\n",
    "import torch.nn.functional as F\n",
    "environment = WumpusWorldEnvironment(observation_type='integer', action_type='discrete')\n",
    "observation, info = environment.reset()\n",
    "\n",
    "# BEGIN_YOUR_CODE\n",
    "\n",
    "class Net(nn.Module):\n",
    "\n",
    "    def __init__(self):\n",
    "        super(Net, self).__init__()\n",
    "        self.fc1 = nn.Linear(36 , 64)  \n",
    "        self.fc2 = nn.Linear(64, 4)\n",
    "        \n",
    "    def forward(self, input):\n",
    "        t = torch.tensor([input])\n",
    "        input = F.one_hot(t,36)\n",
    "        input = input.float()\n",
    "        output = F.relu(self.fc1(input))\n",
    "        output = self.fc2(output)\n",
    "        return output\n",
    "\n",
    "print(' info', info)\n",
    "n = Net()\n",
    "print(n)\n",
    "# print(type(observation))\n",
    "r =n.forward(observation)\n",
    "print('obs:',observation)\n",
    "print('Values:',r)\n",
    "\n",
    "\n",
    "# END_YOUR_CODE"
   ]
  },
  {
   "cell_type": "markdown",
   "id": "ce19c97b",
   "metadata": {},
   "source": [
    "## Observation Type - Image, Action Type - Discrete\n",
    "\n",
    "The part of the assignment requires you to create a convolutional neural network with one convolutional layer having 128 filters of size 3 x 3, one hidden layer having 64 neurons, and the output layer having 4 neurons. The input to the neural network is an image of size 84 * 84 (refer to environment observations type 3). The output of the neural network is an array represeting the Q-values from which you will choose an action (refer to environment actions type 1)."
   ]
  },
  {
   "cell_type": "markdown",
   "id": "df3d739c",
   "metadata": {},
   "source": [
    "The following figure shows the network structure you will have to use:\n",
    "\n",
    "<img src=\"./images/neural_network_structures/convolutional_neural_network_84x84_128_64_4.png\">"
   ]
  },
  {
   "cell_type": "code",
   "execution_count": 43,
   "id": "2044da09",
   "metadata": {
    "ExecuteTime": {
     "end_time": "2024-09-24T11:30:21.029222Z",
     "start_time": "2024-09-24T11:30:20.071698Z"
    }
   },
   "outputs": [
    {
     "name": "stdout",
     "output_type": "stream",
     "text": [
      "Net(\n",
      "  (conv1): Conv2d(1, 128, kernel_size=(3, 3), stride=(1, 1))\n",
      "  (fc1): Linear(in_features=128, out_features=64, bias=True)\n",
      "  (fc2): Linear(in_features=64, out_features=4, bias=True)\n",
      ")\n",
      "(84, 84)\n"
     ]
    },
    {
     "ename": "TypeError",
     "evalue": "conv2d() received an invalid combination of arguments - got (numpy.ndarray, Parameter, Parameter, tuple, tuple, tuple, int), but expected one of:\n * (Tensor input, Tensor weight, Tensor bias = None, tuple of ints stride = 1, tuple of ints padding = 0, tuple of ints dilation = 1, int groups = 1)\n      didn't match because some of the arguments have invalid types: (!numpy.ndarray!, !Parameter!, !Parameter!, !tuple of (int, int)!, !tuple of (int, int)!, !tuple of (int, int)!, !int!)\n * (Tensor input, Tensor weight, Tensor bias = None, tuple of ints stride = 1, str padding = \"valid\", tuple of ints dilation = 1, int groups = 1)\n      didn't match because some of the arguments have invalid types: (!numpy.ndarray!, !Parameter!, !Parameter!, !tuple of (int, int)!, !tuple of (int, int)!, !tuple of (int, int)!, !int!)\n",
     "output_type": "error",
     "traceback": [
      "\u001b[1;31m---------------------------------------------------------------------------\u001b[0m",
      "\u001b[1;31mTypeError\u001b[0m                                 Traceback (most recent call last)",
      "Cell \u001b[1;32mIn[43], line 28\u001b[0m\n\u001b[0;32m     26\u001b[0m \u001b[38;5;28mprint\u001b[39m(n)\n\u001b[0;32m     27\u001b[0m \u001b[38;5;28mprint\u001b[39m(observation\u001b[38;5;241m.\u001b[39mshape)\n\u001b[1;32m---> 28\u001b[0m r \u001b[38;5;241m=\u001b[39m\u001b[43mn\u001b[49m\u001b[38;5;241;43m.\u001b[39;49m\u001b[43mforward\u001b[49m\u001b[43m(\u001b[49m\u001b[43mobservation\u001b[49m\u001b[43m)\u001b[49m\n\u001b[0;32m     29\u001b[0m \u001b[38;5;28mprint\u001b[39m(\u001b[38;5;124m'\u001b[39m\u001b[38;5;124mobs:\u001b[39m\u001b[38;5;124m'\u001b[39m,observation)\n\u001b[0;32m     30\u001b[0m \u001b[38;5;28mprint\u001b[39m(\u001b[38;5;124m'\u001b[39m\u001b[38;5;124mValues:\u001b[39m\u001b[38;5;124m'\u001b[39m,r)\n",
      "Cell \u001b[1;32mIn[43], line 21\u001b[0m, in \u001b[0;36mNet.forward\u001b[1;34m(self, input)\u001b[0m\n\u001b[0;32m     20\u001b[0m \u001b[38;5;28;01mdef\u001b[39;00m \u001b[38;5;21mforward\u001b[39m(\u001b[38;5;28mself\u001b[39m, \u001b[38;5;28minput\u001b[39m):\n\u001b[1;32m---> 21\u001b[0m    c1 \u001b[38;5;241m=\u001b[39m F\u001b[38;5;241m.\u001b[39mrelu(\u001b[38;5;28;43mself\u001b[39;49m\u001b[38;5;241;43m.\u001b[39;49m\u001b[43mconv1\u001b[49m\u001b[43m(\u001b[49m\u001b[38;5;28;43minput\u001b[39;49m\u001b[43m)\u001b[49m)\n\u001b[0;32m     23\u001b[0m    \u001b[38;5;28;01mreturn\u001b[39;00m\n",
      "File \u001b[1;32m~\\AppData\\Local\\Packages\\PythonSoftwareFoundation.Python.3.12_qbz5n2kfra8p0\\LocalCache\\local-packages\\Python312\\site-packages\\torch\\nn\\modules\\module.py:1553\u001b[0m, in \u001b[0;36mModule._wrapped_call_impl\u001b[1;34m(self, *args, **kwargs)\u001b[0m\n\u001b[0;32m   1551\u001b[0m     \u001b[38;5;28;01mreturn\u001b[39;00m \u001b[38;5;28mself\u001b[39m\u001b[38;5;241m.\u001b[39m_compiled_call_impl(\u001b[38;5;241m*\u001b[39margs, \u001b[38;5;241m*\u001b[39m\u001b[38;5;241m*\u001b[39mkwargs)  \u001b[38;5;66;03m# type: ignore[misc]\u001b[39;00m\n\u001b[0;32m   1552\u001b[0m \u001b[38;5;28;01melse\u001b[39;00m:\n\u001b[1;32m-> 1553\u001b[0m     \u001b[38;5;28;01mreturn\u001b[39;00m \u001b[38;5;28;43mself\u001b[39;49m\u001b[38;5;241;43m.\u001b[39;49m\u001b[43m_call_impl\u001b[49m\u001b[43m(\u001b[49m\u001b[38;5;241;43m*\u001b[39;49m\u001b[43margs\u001b[49m\u001b[43m,\u001b[49m\u001b[43m \u001b[49m\u001b[38;5;241;43m*\u001b[39;49m\u001b[38;5;241;43m*\u001b[39;49m\u001b[43mkwargs\u001b[49m\u001b[43m)\u001b[49m\n",
      "File \u001b[1;32m~\\AppData\\Local\\Packages\\PythonSoftwareFoundation.Python.3.12_qbz5n2kfra8p0\\LocalCache\\local-packages\\Python312\\site-packages\\torch\\nn\\modules\\module.py:1562\u001b[0m, in \u001b[0;36mModule._call_impl\u001b[1;34m(self, *args, **kwargs)\u001b[0m\n\u001b[0;32m   1557\u001b[0m \u001b[38;5;66;03m# If we don't have any hooks, we want to skip the rest of the logic in\u001b[39;00m\n\u001b[0;32m   1558\u001b[0m \u001b[38;5;66;03m# this function, and just call forward.\u001b[39;00m\n\u001b[0;32m   1559\u001b[0m \u001b[38;5;28;01mif\u001b[39;00m \u001b[38;5;129;01mnot\u001b[39;00m (\u001b[38;5;28mself\u001b[39m\u001b[38;5;241m.\u001b[39m_backward_hooks \u001b[38;5;129;01mor\u001b[39;00m \u001b[38;5;28mself\u001b[39m\u001b[38;5;241m.\u001b[39m_backward_pre_hooks \u001b[38;5;129;01mor\u001b[39;00m \u001b[38;5;28mself\u001b[39m\u001b[38;5;241m.\u001b[39m_forward_hooks \u001b[38;5;129;01mor\u001b[39;00m \u001b[38;5;28mself\u001b[39m\u001b[38;5;241m.\u001b[39m_forward_pre_hooks\n\u001b[0;32m   1560\u001b[0m         \u001b[38;5;129;01mor\u001b[39;00m _global_backward_pre_hooks \u001b[38;5;129;01mor\u001b[39;00m _global_backward_hooks\n\u001b[0;32m   1561\u001b[0m         \u001b[38;5;129;01mor\u001b[39;00m _global_forward_hooks \u001b[38;5;129;01mor\u001b[39;00m _global_forward_pre_hooks):\n\u001b[1;32m-> 1562\u001b[0m     \u001b[38;5;28;01mreturn\u001b[39;00m \u001b[43mforward_call\u001b[49m\u001b[43m(\u001b[49m\u001b[38;5;241;43m*\u001b[39;49m\u001b[43margs\u001b[49m\u001b[43m,\u001b[49m\u001b[43m \u001b[49m\u001b[38;5;241;43m*\u001b[39;49m\u001b[38;5;241;43m*\u001b[39;49m\u001b[43mkwargs\u001b[49m\u001b[43m)\u001b[49m\n\u001b[0;32m   1564\u001b[0m \u001b[38;5;28;01mtry\u001b[39;00m:\n\u001b[0;32m   1565\u001b[0m     result \u001b[38;5;241m=\u001b[39m \u001b[38;5;28;01mNone\u001b[39;00m\n",
      "File \u001b[1;32m~\\AppData\\Local\\Packages\\PythonSoftwareFoundation.Python.3.12_qbz5n2kfra8p0\\LocalCache\\local-packages\\Python312\\site-packages\\torch\\nn\\modules\\conv.py:458\u001b[0m, in \u001b[0;36mConv2d.forward\u001b[1;34m(self, input)\u001b[0m\n\u001b[0;32m    457\u001b[0m \u001b[38;5;28;01mdef\u001b[39;00m \u001b[38;5;21mforward\u001b[39m(\u001b[38;5;28mself\u001b[39m, \u001b[38;5;28minput\u001b[39m: Tensor) \u001b[38;5;241m-\u001b[39m\u001b[38;5;241m>\u001b[39m Tensor:\n\u001b[1;32m--> 458\u001b[0m     \u001b[38;5;28;01mreturn\u001b[39;00m \u001b[38;5;28;43mself\u001b[39;49m\u001b[38;5;241;43m.\u001b[39;49m\u001b[43m_conv_forward\u001b[49m\u001b[43m(\u001b[49m\u001b[38;5;28;43minput\u001b[39;49m\u001b[43m,\u001b[49m\u001b[43m \u001b[49m\u001b[38;5;28;43mself\u001b[39;49m\u001b[38;5;241;43m.\u001b[39;49m\u001b[43mweight\u001b[49m\u001b[43m,\u001b[49m\u001b[43m \u001b[49m\u001b[38;5;28;43mself\u001b[39;49m\u001b[38;5;241;43m.\u001b[39;49m\u001b[43mbias\u001b[49m\u001b[43m)\u001b[49m\n",
      "File \u001b[1;32m~\\AppData\\Local\\Packages\\PythonSoftwareFoundation.Python.3.12_qbz5n2kfra8p0\\LocalCache\\local-packages\\Python312\\site-packages\\torch\\nn\\modules\\conv.py:454\u001b[0m, in \u001b[0;36mConv2d._conv_forward\u001b[1;34m(self, input, weight, bias)\u001b[0m\n\u001b[0;32m    450\u001b[0m \u001b[38;5;28;01mif\u001b[39;00m \u001b[38;5;28mself\u001b[39m\u001b[38;5;241m.\u001b[39mpadding_mode \u001b[38;5;241m!=\u001b[39m \u001b[38;5;124m'\u001b[39m\u001b[38;5;124mzeros\u001b[39m\u001b[38;5;124m'\u001b[39m:\n\u001b[0;32m    451\u001b[0m     \u001b[38;5;28;01mreturn\u001b[39;00m F\u001b[38;5;241m.\u001b[39mconv2d(F\u001b[38;5;241m.\u001b[39mpad(\u001b[38;5;28minput\u001b[39m, \u001b[38;5;28mself\u001b[39m\u001b[38;5;241m.\u001b[39m_reversed_padding_repeated_twice, mode\u001b[38;5;241m=\u001b[39m\u001b[38;5;28mself\u001b[39m\u001b[38;5;241m.\u001b[39mpadding_mode),\n\u001b[0;32m    452\u001b[0m                     weight, bias, \u001b[38;5;28mself\u001b[39m\u001b[38;5;241m.\u001b[39mstride,\n\u001b[0;32m    453\u001b[0m                     _pair(\u001b[38;5;241m0\u001b[39m), \u001b[38;5;28mself\u001b[39m\u001b[38;5;241m.\u001b[39mdilation, \u001b[38;5;28mself\u001b[39m\u001b[38;5;241m.\u001b[39mgroups)\n\u001b[1;32m--> 454\u001b[0m \u001b[38;5;28;01mreturn\u001b[39;00m \u001b[43mF\u001b[49m\u001b[38;5;241;43m.\u001b[39;49m\u001b[43mconv2d\u001b[49m\u001b[43m(\u001b[49m\u001b[38;5;28;43minput\u001b[39;49m\u001b[43m,\u001b[49m\u001b[43m \u001b[49m\u001b[43mweight\u001b[49m\u001b[43m,\u001b[49m\u001b[43m \u001b[49m\u001b[43mbias\u001b[49m\u001b[43m,\u001b[49m\u001b[43m \u001b[49m\u001b[38;5;28;43mself\u001b[39;49m\u001b[38;5;241;43m.\u001b[39;49m\u001b[43mstride\u001b[49m\u001b[43m,\u001b[49m\n\u001b[0;32m    455\u001b[0m \u001b[43m                \u001b[49m\u001b[38;5;28;43mself\u001b[39;49m\u001b[38;5;241;43m.\u001b[39;49m\u001b[43mpadding\u001b[49m\u001b[43m,\u001b[49m\u001b[43m \u001b[49m\u001b[38;5;28;43mself\u001b[39;49m\u001b[38;5;241;43m.\u001b[39;49m\u001b[43mdilation\u001b[49m\u001b[43m,\u001b[49m\u001b[43m \u001b[49m\u001b[38;5;28;43mself\u001b[39;49m\u001b[38;5;241;43m.\u001b[39;49m\u001b[43mgroups\u001b[49m\u001b[43m)\u001b[49m\n",
      "\u001b[1;31mTypeError\u001b[0m: conv2d() received an invalid combination of arguments - got (numpy.ndarray, Parameter, Parameter, tuple, tuple, tuple, int), but expected one of:\n * (Tensor input, Tensor weight, Tensor bias = None, tuple of ints stride = 1, tuple of ints padding = 0, tuple of ints dilation = 1, int groups = 1)\n      didn't match because some of the arguments have invalid types: (!numpy.ndarray!, !Parameter!, !Parameter!, !tuple of (int, int)!, !tuple of (int, int)!, !tuple of (int, int)!, !int!)\n * (Tensor input, Tensor weight, Tensor bias = None, tuple of ints stride = 1, str padding = \"valid\", tuple of ints dilation = 1, int groups = 1)\n      didn't match because some of the arguments have invalid types: (!numpy.ndarray!, !Parameter!, !Parameter!, !tuple of (int, int)!, !tuple of (int, int)!, !tuple of (int, int)!, !int!)\n"
     ]
    }
   ],
   "source": [
    "\"\"\"TO DO: Create a neural network, pass it the observation from the environment\n",
    "and get the predicted Q-values for the four actions. Print the observation and the Q-values.\"\"\"\n",
    "import torch\n",
    "import torch.nn as nn\n",
    "import torch.nn.functional as F\n",
    "environment = WumpusWorldEnvironment(observation_type='image', action_type='discrete')\n",
    "observation, info = environment.reset()\n",
    "\n",
    "# BEGIN_YOUR_CODE\n",
    "\n",
    "class Net(nn.Module):\n",
    "\n",
    "    def __init__(self):\n",
    "        super(Net, self).__init__()\n",
    "        self.conv1 = nn.Conv2d(1,128,3)\n",
    "        # self.conv2 = nn.Conv2d(128,128,3)\n",
    "        self.fc1 = nn.Linear(128 , 64)  \n",
    "        self.fc2 = nn.Linear(64, 4)\n",
    "        \n",
    "    def forward(self, input):\n",
    "       c1 = F.relu(self.conv1(input))\n",
    "       \n",
    "       return \n",
    "\n",
    "n = Net()\n",
    "print(n)\n",
    "print(observation.shape)\n",
    "r =n.forward(observation)\n",
    "print('obs:',observation)\n",
    "print('Values:',r)\n",
    "\n",
    "# END_YOUR_CODE"
   ]
  },
  {
   "cell_type": "markdown",
   "id": "64be04fd",
   "metadata": {},
   "source": [
    "## Observation Type - Float, Action Type - Discrete\n",
    "\n",
    "The part of the assignment requires you to create a sequential dense neural network with 1 hidden layer having 64 neurons and the output layer having 4 neurons. The input to the neural network is a float (refer to environment observations type 4). The output of the neural network is an array representing the Q-values from which you will choose an action (refer to environment actions type 1)."
   ]
  },
  {
   "cell_type": "markdown",
   "id": "b7ed49e0",
   "metadata": {},
   "source": [
    "The following figure shows the network structure you will have to use:\n",
    "\n",
    "<img src=\"./images/neural_network_structures/neural_network_1_64_4.png\">"
   ]
  },
  {
   "cell_type": "code",
   "execution_count": 15,
   "id": "ea0e4aa6",
   "metadata": {
    "ExecuteTime": {
     "end_time": "2024-09-24T11:30:21.054512Z",
     "start_time": "2024-09-24T11:30:21.045576Z"
    }
   },
   "outputs": [
    {
     "name": "stdout",
     "output_type": "stream",
     "text": [
      " info {}\n",
      "Net(\n",
      "  (fc1): Linear(in_features=1, out_features=64, bias=True)\n",
      "  (fc2): Linear(in_features=64, out_features=4, bias=True)\n",
      ")\n",
      "obs: 0.0\n",
      "Values: tensor([-0.1664, -0.3089,  0.2061,  0.2558], grad_fn=<ViewBackward0>)\n"
     ]
    }
   ],
   "source": [
    "\"\"\"TO DO: Create a neural network, pass it the observation from the environment\n",
    "and get the predicted Q-values for the four actions. Print the observation and the Q-values.\"\"\"\n",
    "import torch\n",
    "import torch.nn as nn\n",
    "import torch.nn.functional as F\n",
    "environment = WumpusWorldEnvironment(observation_type='float', action_type='discrete')\n",
    "observation, info = environment.reset()\n",
    "\n",
    "# BEGIN_YOUR_CODE\n",
    "\n",
    "class Net(nn.Module):\n",
    "\n",
    "    def __init__(self):\n",
    "        super(Net, self).__init__()\n",
    "        self.fc1 = nn.Linear(1 , 64)  \n",
    "        self.fc2 = nn.Linear(64, 4)\n",
    "        \n",
    "    def forward(self, input):\n",
    "        t = torch.tensor([input])\n",
    "        output = F.relu(self.fc1(t))\n",
    "        output = self.fc2(output)\n",
    "        return output\n",
    "\n",
    "print(' info', info)\n",
    "n = Net()\n",
    "print(n)\n",
    "# print(type(observation))\n",
    "r =n.forward(observation)\n",
    "print('obs:',observation)\n",
    "print('Values:',r)\n",
    "\n",
    "# END_YOUR_CODE"
   ]
  },
  {
   "cell_type": "markdown",
   "id": "27040465",
   "metadata": {},
   "source": [
    "## Observation Type - Vector (2.2), Action Type - Multi-Discrete\n",
    "\n",
    "The part of the assignment requires you to create a sequential dense neural network with 1 hidden layer having 64 neurons and the output layer having 4 neurons. The input to the neural network is a vector of length 36 (refer to environment observations type 2.2). The output of the neural network is an array representing the probability of choosing the actions. (If the value of the array element is >=0.5 you will perform the action.) (refer to environment actions type 2).\n",
    "\n",
    "**HINT:** Use the integer observation and convert it to a one-hot encoded vector."
   ]
  },
  {
   "cell_type": "markdown",
   "id": "8fe64de9",
   "metadata": {},
   "source": [
    "The following figure shows the network structure you will have to use:\n",
    "\n",
    "<img src=\"./images/neural_network_structures/neural_network_36_64_4_sigmoid.png\">"
   ]
  },
  {
   "cell_type": "code",
   "execution_count": 89,
   "id": "00ea3736",
   "metadata": {
    "ExecuteTime": {
     "end_time": "2024-09-24T11:30:21.075465Z",
     "start_time": "2024-09-24T11:30:21.067936Z"
    }
   },
   "outputs": [
    {
     "name": "stdout",
     "output_type": "stream",
     "text": [
      " info {}\n",
      "Net(\n",
      "  (fc1): Linear(in_features=36, out_features=64, bias=True)\n",
      "  (fc2): Linear(in_features=64, out_features=4, bias=True)\n",
      "  (sig): Sigmoid()\n",
      ")\n",
      "obs: 0\n",
      "Values: tensor([[0.4805, 0.4931, 0.4950, 0.4940]], grad_fn=<SigmoidBackward0>)\n"
     ]
    }
   ],
   "source": [
    "\"\"\"TO DO: Create a neural network, pass it the observation from the environment\n",
    "and get the predicted action probabilities for the four actions. Print the observation and the action probabilities.\"\"\"\n",
    "import torch\n",
    "import torch.nn as nn\n",
    "import torch.nn.functional as F\n",
    "environment = WumpusWorldEnvironment(observation_type='integer', action_type='multi_discrete')\n",
    "observation, info = environment.reset()\n",
    "\n",
    "# BEGIN_YOUR_CODE\n",
    "class Net(nn.Module):\n",
    "\n",
    "    def __init__(self):\n",
    "        super(Net, self).__init__()\n",
    "        self.fc1 = nn.Linear(36 , 64)  \n",
    "        self.fc2 = nn.Linear(64, 4)\n",
    "        self.sig = nn.Sigmoid()\n",
    "        \n",
    "    def forward(self, input):\n",
    "        t = torch.tensor([input])\n",
    "        input = F.one_hot(t,36)\n",
    "        input = input.float()\n",
    "        output = F.relu(self.fc1(input))\n",
    "        output = self.fc2(output)\n",
    "        return output\n",
    "\n",
    "print(' info', info)\n",
    "n = Net()\n",
    "print(n)\n",
    "# print(type(observation))\n",
    "r =n.forward(observation)\n",
    "print('obs:',observation)\n",
    "print('Values:',r)"
   ]
  },
  {
   "cell_type": "markdown",
   "id": "082f05b0",
   "metadata": {},
   "source": [
    "## Observation Type - Vector (2.2), Action Type - Continuous\n",
    "\n",
    "The part of the assignment requires you to create a sequential dense neural network with 1 hidden layer having 64 neurons and the output layer having 1 neuron. The input to the neural network is a vector of length 36 (refer to environment observations type 2.2). The output of the neural network is an float in the range [-1, 1] determining the action which will be taken. (refer to environment actions type 3).\n",
    "\n",
    "**HINT:** Use the integer observation and convert it to a one-hot encoded vector and use the TanH activation function to get the output in the range [-1, 1]."
   ]
  },
  {
   "cell_type": "markdown",
   "id": "d8796988",
   "metadata": {},
   "source": [
    "The following figure shows the network structure you will have to use:\n",
    "\n",
    "<img src=\"./images/neural_network_structures/neural_network_36_64_1.png\">"
   ]
  },
  {
   "cell_type": "code",
   "execution_count": 8,
   "id": "b98555f1",
   "metadata": {
    "ExecuteTime": {
     "end_time": "2024-09-24T11:30:21.123624Z",
     "start_time": "2024-09-24T11:30:21.114457Z"
    }
   },
   "outputs": [],
   "source": [
    "\"\"\"TO DO: Create a neural network, pass it the observation from the environment\n",
    "and get the predicted action. Print the observation and the predicted action.\"\"\"\n",
    "import torch\n",
    "import torch.nn as nn\n",
    "import torch.nn.functional as F\n",
    "environment = WumpusWorldEnvironment(observation_type='integer', action_type='continuous')\n",
    "observation, info = environment.reset()\n",
    "\n",
    "# BEGIN_YOUR_CODE\n",
    "\n",
    "class Net(nn.Module):\n",
    "\n",
    "    def __init__(self):\n",
    "        super(Net, self).__init__()\n",
    "        self.fc1 = nn.Linear(36 , 64)  \n",
    "        self.fc2 = nn.Linear(64, 4)\n",
    "        self.tanh = nn.Tanh()\n",
    "        \n",
    "    def forward(self, input):\n",
    "        t = torch.tensor([input])\n",
    "        input = F.one_hot(t,36)\n",
    "        input = input.float()\n",
    "        input = self.tanh(input)\n",
    "\n",
    "        \n",
    "        output = F.relu(self.fc1(input))\n",
    "        output = self.fc2(output)\n",
    "        return output\n",
    "\n",
    "print(' info', info)\n",
    "n = Net()\n",
    "print(n)\n",
    "# print(type(observation))\n",
    "r =n.forward(observation)\n",
    "print('obs:',observation)\n",
    "print('Values:',r)\n",
    "\n",
    "# END_YOUR_CODE"
   ]
  }
 ],
 "metadata": {
  "kernelspec": {
   "display_name": "Python 3",
   "language": "python",
   "name": "python3"
  },
  "language_info": {
   "codemirror_mode": {
    "name": "ipython",
    "version": 3
   },
   "file_extension": ".py",
   "mimetype": "text/x-python",
   "name": "python",
   "nbconvert_exporter": "python",
   "pygments_lexer": "ipython3",
   "version": "3.12.7"
  }
 },
 "nbformat": 4,
 "nbformat_minor": 5
}
