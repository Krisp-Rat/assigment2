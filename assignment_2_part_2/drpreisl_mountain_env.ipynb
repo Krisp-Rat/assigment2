{
 "cells": [
  {
   "cell_type": "code",
   "execution_count": 96,
   "metadata": {
    "ExecuteTime": {
     "end_time": "2024-10-31T19:01:51.775833Z",
     "start_time": "2024-10-31T19:01:51.771501Z"
    },
    "collapsed": false
   },
   "outputs": [
    {
     "name": "stdout",
     "output_type": "stream",
     "text": [
      "cuda\n"
     ]
    }
   ],
   "source": [
    "import random\n",
    "import math\n",
    "# Install required libraries\n",
    "# Import required libraries\n",
    "import gymnasium as gym\n",
    "from gymnasium import spaces\n",
    "import matplotlib.pyplot as plt\n",
    "import numpy as np\n",
    "import pickle\n",
    "import torch\n",
    "import torch.nn as nn\n",
    "import torch.nn.functional as F\n",
    "import torch.optim as optim\n",
    "from collections import namedtuple, deque\n",
    "device = torch.device(\n",
    "    \"cuda\" if torch.cuda.is_available() else\n",
    "    \"cpu\"\n",
    ")\n",
    "\n",
    "print(device)\n",
    "CUDA_LAUNCH_BLOCKING=1"
   ]
  },
  {
   "cell_type": "code",
   "execution_count": 97,
   "metadata": {
    "ExecuteTime": {
     "end_time": "2024-10-31T19:01:55.134415Z",
     "start_time": "2024-10-31T19:01:55.130999Z"
    },
    "collapsed": false
   },
   "outputs": [],
   "source": [
    "class Net(nn.Module):\n",
    "\n",
    "    def __init__(self, obs, action):\n",
    "        super(Net, self).__init__()\n",
    "        self.layer1 = nn.Linear(obs, 128)\n",
    "        self.layer2 = nn.Linear(128, 128)\n",
    "        self.layer3 = nn.Linear(128, action)\n",
    "\n",
    "    def forward(self, x):\n",
    "        x = F.relu(self.layer1(x))\n",
    "        x = F.relu(self.layer2(x))\n",
    "        return self.layer3(x)"
   ]
  },
  {
   "cell_type": "code",
   "execution_count": 98,
   "metadata": {
    "ExecuteTime": {
     "end_time": "2024-10-31T19:14:53.327192Z",
     "start_time": "2024-10-31T19:14:53.315948Z"
    },
    "collapsed": false
   },
   "outputs": [],
   "source": [
    "class DQN:\n",
    "  # initialize values\n",
    "  def __init__(self, N, env):\n",
    "    # initialize environment\n",
    "    self.env = env\n",
    "    state, info = self.env.reset()\n",
    "    # initialize replay memory to capacity N\n",
    "    self.pointer = 0\n",
    "    self.policy_net = Net(len(state), self.env.action_space.n).to(device)\n",
    "    self.target_net = Net(len(state), self.env.action_space.n).to(device)\n",
    "    self.target_net.load_state_dict(self.policy_net.state_dict())\n",
    "    self.optimizer = optim.AdamW(self.policy_net.parameters(),amsgrad=True ) #auto learning rate\n",
    "    # big replay memory:\n",
    "    self.size = N\n",
    "    self.state_mem = torch.zeros((N, self.env.observation_space.shape[0]), dtype=torch.float32, device=device)\n",
    "    self.next_state_mem = torch.zeros((self.size, self.env.observation_space.shape[0]), dtype=torch.float32, device=device)\n",
    "    self.action_mem = torch.zeros(self.size, dtype=torch.int64, device=device)\n",
    "    self.reward_mem = torch.zeros(self.size, dtype=torch.float32, device=device)\n",
    "    self.done_mem = torch.zeros(self.size, dtype=torch.float32, device=device)\n",
    "    self.pointer = 0\n",
    "\n",
    "  def append(self, state, action, reward, next_state, done):\n",
    "    i = self.pointer % self.size #get index\n",
    "    self.state_mem[i] = state\n",
    "    self.next_state_mem[i] = next_state\n",
    "    self.reward_mem[i] = reward \n",
    "    self.done_mem[i] = 1 - int(done)\n",
    "    self.action_mem[i] = action\n",
    "    self.pointer +=1\n",
    "    \n",
    "  def sample(self,batch):\n",
    "    mem = min(self.pointer,self.size) # get range to choose mem from\n",
    "    batch = np.random.choice(mem,batch) # choose random indices\n",
    "    states = self.state_mem[batch]\n",
    "    next_states = self.next_state_mem[batch]\n",
    "    actions = self.action_mem[batch]\n",
    "    rewards = self.reward_mem[batch]\n",
    "    done = self.done_mem[batch]\n",
    "    return states, actions, rewards, next_states, done\n",
    "\n",
    "\n",
    "\n",
    "\n",
    "  \n",
    "  # Main training function\n",
    "  def train(self, episodes, epsilon, discount, action_function, greedy):\n",
    "    sum = 0\n",
    "    total_reward = [0] * episodes  \n",
    "    # TAU = .0004\n",
    "    \n",
    "    for i in range(episodes):\n",
    "      # initialize sequence S and preprocessed sequence o\n",
    "      seq  = [None , None]\n",
    "      state, info = self.env.reset()\n",
    "      seq[0] = torch.tensor(state, dtype=torch.float32, device=device).unsqueeze(0)\n",
    "      done = False\n",
    "      rewards = 0\n",
    "      eps = epsilon ** i if not greedy else 0\n",
    "      while not done:\n",
    "        # Select action\n",
    "        action_type = action_function(seq[0], eps)\n",
    "        observation, reward, terminated, truncated, _ = self.env.step(action_type.item())\n",
    "        rewards += reward\n",
    "        state = torch.tensor(observation, device=device, dtype=torch.float32).unsqueeze(0)\n",
    "        seq[1] = state\n",
    "        # if terminated == False:\n",
    "        #   reward = 100*((math.sin(3*seq[1][0,0])*0.0025+0.05*seq[1][0,1]*seq[1][0,1])-(math.sin(3*seq[0][0,0])*0.0025+0.5*seq[0][0,1]*seq[0][0,1]))\n",
    "        # print(reward)\n",
    "        # Set sequence\n",
    "        self.append(state=seq[0], action=action_type, reward=reward, next_state=seq[1], done=terminated)\n",
    "        if terminated:\n",
    "           seq[1] = None\n",
    "        # store transition in replay buffer\n",
    "        seq[0] = state\n",
    "        self.r(discount)\n",
    "        if self.pointer%5 == 0:\n",
    "           self.target_net.load_state_dict(self.policy_net.state_dict())\n",
    "        done = truncated or terminated\n",
    "      # Decay epsilon after every episode\n",
    "      # epsilon *= epsilon\n",
    "      total_reward[i] = rewards  \n",
    "      if rewards >-110:\n",
    "         sum +=0\n",
    "      else:\n",
    "         sum = 0\n",
    "      if sum>10:\n",
    "         break\n",
    "    return total_reward\n",
    "\n",
    "      \n",
    "  def action(self, state, epsilon):\n",
    "    if np.random.rand() < epsilon:\n",
    "        action_type = self.env.action_space.sample()\n",
    "    else:\n",
    "        # select max(Q)\n",
    "        with torch.no_grad():\n",
    "            return self.policy_net(state).max(1).indices.view(1, 1) \n",
    "    return torch.tensor([[action_type]], device=device, dtype=torch.long)\n",
    "        \n",
    "  def r(self,discount):\n",
    "      BATCH_SIZE = 256\n",
    "      if self.pointer < BATCH_SIZE:\n",
    "          return\n",
    "      # Sample a batch from replay memory\n",
    "      states, actions, rewards, next_states, dones = self.sample(BATCH_SIZE)\n",
    "      \n",
    "      # Convert to tensors\n",
    "      state_batch = torch.tensor(states, dtype=torch.float32, device=device)\n",
    "      action_batch = torch.tensor(actions, dtype=torch.int64, device=device).unsqueeze(1)\n",
    "      reward_batch = torch.tensor(rewards, dtype=torch.float32, device=device)\n",
    "      next_state_batch = torch.tensor(next_states, dtype=torch.float32, device=device)\n",
    "      done_mask = torch.tensor(dones, dtype=torch.float32, device=device) # zeros out terminated\n",
    "      \n",
    "      # Calculate state-action values\n",
    "      state_action_values = self.policy_net(state_batch).gather(1, action_batch)\n",
    "      \n",
    "      # Calculate next state values\n",
    "      next_state_values = torch.zeros(BATCH_SIZE, device=device)\n",
    "      with torch.no_grad():\n",
    "          next_state_values[done_mask.bool()] = self.target_net(next_state_batch[done_mask.bool()]).max(1).values\n",
    "      \n",
    "      # Expected Q values\n",
    "      expected_state_action_values = (next_state_values * discount) + reward_batch\n",
    "      \n",
    "      # Compute loss\n",
    "      criterion = nn.SmoothL1Loss()\n",
    "      loss = criterion(state_action_values, expected_state_action_values.unsqueeze(1))\n",
    "      \n",
    "      # Optimize the model\n",
    "      self.optimizer.zero_grad()\n",
    "      loss.backward()\n",
    "      self.optimizer.step()\n",
    "\n",
    "  \n",
    "  # Save the current weights\n",
    "  def save(self, filename):\n",
    "    with open(filename, 'wb') as file:\n",
    "      pickle.dump(self.policy_net.state_dict(), file,protocol=pickle.HIGHEST_PROTOCOL)"
   ]
  },
  {
   "cell_type": "code",
   "execution_count": 99,
   "metadata": {
    "ExecuteTime": {
     "end_time": "2024-10-31T19:19:10.107111Z",
     "start_time": "2024-10-31T19:19:10.101012Z"
    },
    "collapsed": false
   },
   "outputs": [],
   "source": [
    "#Prints the reward per epsisode graph\n",
    "def reward_print(reward_per_episode, episodes, info): \n",
    "    mins = int(min(reward_per_episode)) - int(min(reward_per_episode)) * (.15)\n",
    "    maxs = int(max(reward_per_episode)) + int(max(reward_per_episode)) * (.3) \n",
    "    plt.figure()\n",
    "    plt.plot(reward_per_episode)\n",
    "    plt.xlabel('Episode', fontsize=20)\n",
    "    plt.ylabel('Cumulative Reward', fontsize=20)\n",
    "    plt.title(f'Cumulative Reward Per Episode ({info})', fontsize=24)\n",
    "    plt.xticks([0, episodes * .2, episodes * .4, episodes * .6, episodes * .8, episodes], fontsize=18)\n",
    "    plt.yticks(fontsize=18)\n",
    "    plt.ylim(ymin= mins, ymax=maxs)\n",
    "    plt.xlim(xmin=0, xmax=episodes)\n",
    "    plt.grid()\n",
    "    plt.show()\n",
    "\n",
    "#prints the epsilon decay graph\n",
    "def ep_decay(eps, episodes):\n",
    "    epsilon_values = [(eps ** i) * 1 for i in range(episodes)]\n",
    "    plt.figure()\n",
    "    plt.plot(epsilon_values, linewidth=4)\n",
    "    plt.xlabel('Episode', fontsize=20)\n",
    "    plt.ylabel('Epsilon Value', fontsize=20)\n",
    "    plt.title(f\"Epsilon Decay for {eps}\", fontsize=24)\n",
    "    plt.xticks([0, episodes * .2, episodes * .4, episodes * .6, episodes * .8, episodes], fontsize=18)\n",
    "    plt.yticks(fontsize=18)\n",
    "    plt.ylim(ymin=0, ymax=1)\n",
    "    plt.xlim(xmin=0, xmax=episodes)\n",
    "    plt.grid()\n",
    "    plt.show()\n"
   ]
  },
  {
   "cell_type": "code",
   "execution_count": null,
   "metadata": {
    "ExecuteTime": {
     "end_time": "2024-10-31T19:29:55.191731Z",
     "start_time": "2024-10-31T19:29:40.566273Z"
    },
    "collapsed": false
   },
   "outputs": [
    {
     "name": "stderr",
     "output_type": "stream",
     "text": [
      "C:\\Users\\corvi\\AppData\\Local\\Temp\\ipykernel_9160\\3318795113.py:108: UserWarning: To copy construct from a tensor, it is recommended to use sourceTensor.clone().detach() or sourceTensor.clone().detach().requires_grad_(True), rather than torch.tensor(sourceTensor).\n",
      "  state_batch = torch.tensor(states, dtype=torch.float32, device=device)\n",
      "C:\\Users\\corvi\\AppData\\Local\\Temp\\ipykernel_9160\\3318795113.py:109: UserWarning: To copy construct from a tensor, it is recommended to use sourceTensor.clone().detach() or sourceTensor.clone().detach().requires_grad_(True), rather than torch.tensor(sourceTensor).\n",
      "  action_batch = torch.tensor(actions, dtype=torch.int64, device=device).unsqueeze(1)\n",
      "C:\\Users\\corvi\\AppData\\Local\\Temp\\ipykernel_9160\\3318795113.py:110: UserWarning: To copy construct from a tensor, it is recommended to use sourceTensor.clone().detach() or sourceTensor.clone().detach().requires_grad_(True), rather than torch.tensor(sourceTensor).\n",
      "  reward_batch = torch.tensor(rewards, dtype=torch.float32, device=device)\n",
      "C:\\Users\\corvi\\AppData\\Local\\Temp\\ipykernel_9160\\3318795113.py:111: UserWarning: To copy construct from a tensor, it is recommended to use sourceTensor.clone().detach() or sourceTensor.clone().detach().requires_grad_(True), rather than torch.tensor(sourceTensor).\n",
      "  next_state_batch = torch.tensor(next_states, dtype=torch.float32, device=device)\n",
      "C:\\Users\\corvi\\AppData\\Local\\Temp\\ipykernel_9160\\3318795113.py:112: UserWarning: To copy construct from a tensor, it is recommended to use sourceTensor.clone().detach() or sourceTensor.clone().detach().requires_grad_(True), rather than torch.tensor(sourceTensor).\n",
      "  done_mask = torch.tensor(dones, dtype=torch.float32, device=device) # zeros out terminated\n"
     ]
    },
    {
     "ename": "KeyboardInterrupt",
     "evalue": "",
     "output_type": "error",
     "traceback": [
      "\u001b[1;31m---------------------------------------------------------------------------\u001b[0m",
      "\u001b[1;31mKeyboardInterrupt\u001b[0m                         Traceback (most recent call last)",
      "Cell \u001b[1;32mIn[100], line 10\u001b[0m\n\u001b[0;32m      8\u001b[0m discount \u001b[38;5;241m=\u001b[39m \u001b[38;5;241m.99\u001b[39m\n\u001b[0;32m      9\u001b[0m action \u001b[38;5;241m=\u001b[39m MtnCar\u001b[38;5;241m.\u001b[39maction\n\u001b[1;32m---> 10\u001b[0m total_rewards \u001b[38;5;241m=\u001b[39m \u001b[43mMtnCar\u001b[49m\u001b[38;5;241;43m.\u001b[39;49m\u001b[43mtrain\u001b[49m\u001b[43m(\u001b[49m\u001b[43mepisodes\u001b[49m\u001b[43m,\u001b[49m\u001b[43m \u001b[49m\u001b[43mepsilon\u001b[49m\u001b[43m,\u001b[49m\u001b[43m \u001b[49m\u001b[43mdiscount\u001b[49m\u001b[43m,\u001b[49m\u001b[43m \u001b[49m\u001b[43maction\u001b[49m\u001b[43m,\u001b[49m\u001b[43m \u001b[49m\u001b[38;5;28;43;01mFalse\u001b[39;49;00m\u001b[43m)\u001b[49m\n\u001b[0;32m     11\u001b[0m \u001b[38;5;66;03m# MtnCar.save(\"drpreisl_angustsa_assignment2_part2_dqn_mountaincar.pickle\")\u001b[39;00m\n\u001b[0;32m     12\u001b[0m reward_print(total_rewards, episodes, \u001b[38;5;124m\"\u001b[39m\u001b[38;5;124mMountainCar\u001b[39m\u001b[38;5;124m\"\u001b[39m)\n",
      "Cell \u001b[1;32mIn[98], line 75\u001b[0m, in \u001b[0;36mDQN.train\u001b[1;34m(self, episodes, epsilon, discount, action_function, greedy)\u001b[0m\n\u001b[0;32m     73\u001b[0m \u001b[38;5;66;03m# store transition in replay buffer\u001b[39;00m\n\u001b[0;32m     74\u001b[0m seq[\u001b[38;5;241m0\u001b[39m] \u001b[38;5;241m=\u001b[39m state\n\u001b[1;32m---> 75\u001b[0m \u001b[38;5;28;43mself\u001b[39;49m\u001b[38;5;241;43m.\u001b[39;49m\u001b[43mr\u001b[49m\u001b[43m(\u001b[49m\u001b[43mdiscount\u001b[49m\u001b[43m)\u001b[49m\n\u001b[0;32m     76\u001b[0m \u001b[38;5;28;01mif\u001b[39;00m \u001b[38;5;28mself\u001b[39m\u001b[38;5;241m.\u001b[39mpointer\u001b[38;5;241m%\u001b[39m\u001b[38;5;241m5\u001b[39m \u001b[38;5;241m==\u001b[39m \u001b[38;5;241m0\u001b[39m:\n\u001b[0;32m     77\u001b[0m    \u001b[38;5;28mself\u001b[39m\u001b[38;5;241m.\u001b[39mtarget_net\u001b[38;5;241m.\u001b[39mload_state_dict(\u001b[38;5;28mself\u001b[39m\u001b[38;5;241m.\u001b[39mpolicy_net\u001b[38;5;241m.\u001b[39mstate_dict())\n",
      "Cell \u001b[1;32mIn[98], line 131\u001b[0m, in \u001b[0;36mDQN.r\u001b[1;34m(self, discount)\u001b[0m\n\u001b[0;32m    129\u001b[0m \u001b[38;5;66;03m# Optimize the model\u001b[39;00m\n\u001b[0;32m    130\u001b[0m \u001b[38;5;28mself\u001b[39m\u001b[38;5;241m.\u001b[39moptimizer\u001b[38;5;241m.\u001b[39mzero_grad()\n\u001b[1;32m--> 131\u001b[0m \u001b[43mloss\u001b[49m\u001b[38;5;241;43m.\u001b[39;49m\u001b[43mbackward\u001b[49m\u001b[43m(\u001b[49m\u001b[43m)\u001b[49m\n\u001b[0;32m    132\u001b[0m \u001b[38;5;28mself\u001b[39m\u001b[38;5;241m.\u001b[39moptimizer\u001b[38;5;241m.\u001b[39mstep()\n",
      "File \u001b[1;32m~\\AppData\\Local\\Packages\\PythonSoftwareFoundation.Python.3.12_qbz5n2kfra8p0\\LocalCache\\local-packages\\Python312\\site-packages\\torch\\_tensor.py:521\u001b[0m, in \u001b[0;36mTensor.backward\u001b[1;34m(self, gradient, retain_graph, create_graph, inputs)\u001b[0m\n\u001b[0;32m    511\u001b[0m \u001b[38;5;28;01mif\u001b[39;00m has_torch_function_unary(\u001b[38;5;28mself\u001b[39m):\n\u001b[0;32m    512\u001b[0m     \u001b[38;5;28;01mreturn\u001b[39;00m handle_torch_function(\n\u001b[0;32m    513\u001b[0m         Tensor\u001b[38;5;241m.\u001b[39mbackward,\n\u001b[0;32m    514\u001b[0m         (\u001b[38;5;28mself\u001b[39m,),\n\u001b[1;32m   (...)\u001b[0m\n\u001b[0;32m    519\u001b[0m         inputs\u001b[38;5;241m=\u001b[39minputs,\n\u001b[0;32m    520\u001b[0m     )\n\u001b[1;32m--> 521\u001b[0m \u001b[43mtorch\u001b[49m\u001b[38;5;241;43m.\u001b[39;49m\u001b[43mautograd\u001b[49m\u001b[38;5;241;43m.\u001b[39;49m\u001b[43mbackward\u001b[49m\u001b[43m(\u001b[49m\n\u001b[0;32m    522\u001b[0m \u001b[43m    \u001b[49m\u001b[38;5;28;43mself\u001b[39;49m\u001b[43m,\u001b[49m\u001b[43m \u001b[49m\u001b[43mgradient\u001b[49m\u001b[43m,\u001b[49m\u001b[43m \u001b[49m\u001b[43mretain_graph\u001b[49m\u001b[43m,\u001b[49m\u001b[43m \u001b[49m\u001b[43mcreate_graph\u001b[49m\u001b[43m,\u001b[49m\u001b[43m \u001b[49m\u001b[43minputs\u001b[49m\u001b[38;5;241;43m=\u001b[39;49m\u001b[43minputs\u001b[49m\n\u001b[0;32m    523\u001b[0m \u001b[43m\u001b[49m\u001b[43m)\u001b[49m\n",
      "File \u001b[1;32m~\\AppData\\Local\\Packages\\PythonSoftwareFoundation.Python.3.12_qbz5n2kfra8p0\\LocalCache\\local-packages\\Python312\\site-packages\\torch\\autograd\\__init__.py:289\u001b[0m, in \u001b[0;36mbackward\u001b[1;34m(tensors, grad_tensors, retain_graph, create_graph, grad_variables, inputs)\u001b[0m\n\u001b[0;32m    284\u001b[0m     retain_graph \u001b[38;5;241m=\u001b[39m create_graph\n\u001b[0;32m    286\u001b[0m \u001b[38;5;66;03m# The reason we repeat the same comment below is that\u001b[39;00m\n\u001b[0;32m    287\u001b[0m \u001b[38;5;66;03m# some Python versions print out the first line of a multi-line function\u001b[39;00m\n\u001b[0;32m    288\u001b[0m \u001b[38;5;66;03m# calls in the traceback and some print out the last line\u001b[39;00m\n\u001b[1;32m--> 289\u001b[0m \u001b[43m_engine_run_backward\u001b[49m\u001b[43m(\u001b[49m\n\u001b[0;32m    290\u001b[0m \u001b[43m    \u001b[49m\u001b[43mtensors\u001b[49m\u001b[43m,\u001b[49m\n\u001b[0;32m    291\u001b[0m \u001b[43m    \u001b[49m\u001b[43mgrad_tensors_\u001b[49m\u001b[43m,\u001b[49m\n\u001b[0;32m    292\u001b[0m \u001b[43m    \u001b[49m\u001b[43mretain_graph\u001b[49m\u001b[43m,\u001b[49m\n\u001b[0;32m    293\u001b[0m \u001b[43m    \u001b[49m\u001b[43mcreate_graph\u001b[49m\u001b[43m,\u001b[49m\n\u001b[0;32m    294\u001b[0m \u001b[43m    \u001b[49m\u001b[43minputs\u001b[49m\u001b[43m,\u001b[49m\n\u001b[0;32m    295\u001b[0m \u001b[43m    \u001b[49m\u001b[43mallow_unreachable\u001b[49m\u001b[38;5;241;43m=\u001b[39;49m\u001b[38;5;28;43;01mTrue\u001b[39;49;00m\u001b[43m,\u001b[49m\n\u001b[0;32m    296\u001b[0m \u001b[43m    \u001b[49m\u001b[43maccumulate_grad\u001b[49m\u001b[38;5;241;43m=\u001b[39;49m\u001b[38;5;28;43;01mTrue\u001b[39;49;00m\u001b[43m,\u001b[49m\n\u001b[0;32m    297\u001b[0m \u001b[43m\u001b[49m\u001b[43m)\u001b[49m\n",
      "File \u001b[1;32m~\\AppData\\Local\\Packages\\PythonSoftwareFoundation.Python.3.12_qbz5n2kfra8p0\\LocalCache\\local-packages\\Python312\\site-packages\\torch\\autograd\\graph.py:769\u001b[0m, in \u001b[0;36m_engine_run_backward\u001b[1;34m(t_outputs, *args, **kwargs)\u001b[0m\n\u001b[0;32m    767\u001b[0m     unregister_hooks \u001b[38;5;241m=\u001b[39m _register_logging_hooks_on_whole_graph(t_outputs)\n\u001b[0;32m    768\u001b[0m \u001b[38;5;28;01mtry\u001b[39;00m:\n\u001b[1;32m--> 769\u001b[0m     \u001b[38;5;28;01mreturn\u001b[39;00m \u001b[43mVariable\u001b[49m\u001b[38;5;241;43m.\u001b[39;49m\u001b[43m_execution_engine\u001b[49m\u001b[38;5;241;43m.\u001b[39;49m\u001b[43mrun_backward\u001b[49m\u001b[43m(\u001b[49m\u001b[43m  \u001b[49m\u001b[38;5;66;43;03m# Calls into the C++ engine to run the backward pass\u001b[39;49;00m\n\u001b[0;32m    770\u001b[0m \u001b[43m        \u001b[49m\u001b[43mt_outputs\u001b[49m\u001b[43m,\u001b[49m\u001b[43m \u001b[49m\u001b[38;5;241;43m*\u001b[39;49m\u001b[43margs\u001b[49m\u001b[43m,\u001b[49m\u001b[43m \u001b[49m\u001b[38;5;241;43m*\u001b[39;49m\u001b[38;5;241;43m*\u001b[39;49m\u001b[43mkwargs\u001b[49m\n\u001b[0;32m    771\u001b[0m \u001b[43m    \u001b[49m\u001b[43m)\u001b[49m  \u001b[38;5;66;03m# Calls into the C++ engine to run the backward pass\u001b[39;00m\n\u001b[0;32m    772\u001b[0m \u001b[38;5;28;01mfinally\u001b[39;00m:\n\u001b[0;32m    773\u001b[0m     \u001b[38;5;28;01mif\u001b[39;00m attach_logging_hooks:\n",
      "\u001b[1;31mKeyboardInterrupt\u001b[0m: "
     ]
    }
   ],
   "source": [
    "\n",
    "N = 20000\n",
    "env = gym.make(\"MountainCar-v0\")\n",
    "env.reset()\n",
    "MtnCar = DQN(N, env)\n",
    "\n",
    "episodes = 1000\n",
    "epsilon = .9\n",
    "discount = .99\n",
    "action = MtnCar.action\n",
    "total_rewards = MtnCar.train(episodes, epsilon, discount, action, False)\n",
    "# MtnCar.save(\"drpreisl_angustsa_assignment2_part2_dqn_mountaincar.pickle\")\n",
    "reward_print(total_rewards, episodes, \"MountainCar\")\n",
    "ep_decay(epsilon, episodes)\n",
    "total_rewards = MtnCar.train(6, epsilon, discount, action, True)\n",
    "reward_print(total_rewards, 5, \"MountainCar\")"
   ]
  },
  {
   "cell_type": "code",
   "execution_count": null,
   "metadata": {},
   "outputs": [],
   "source": []
  },
  {
   "cell_type": "code",
   "execution_count": null,
   "metadata": {},
   "outputs": [
    {
     "name": "stderr",
     "output_type": "stream",
     "text": [
      "C:\\Users\\corvi\\AppData\\Local\\Temp\\ipykernel_9160\\3819250229.py:107: UserWarning: To copy construct from a tensor, it is recommended to use sourceTensor.clone().detach() or sourceTensor.clone().detach().requires_grad_(True), rather than torch.tensor(sourceTensor).\n",
      "  state_batch = torch.tensor(states, dtype=torch.float32, device=device)\n",
      "C:\\Users\\corvi\\AppData\\Local\\Temp\\ipykernel_9160\\3819250229.py:108: UserWarning: To copy construct from a tensor, it is recommended to use sourceTensor.clone().detach() or sourceTensor.clone().detach().requires_grad_(True), rather than torch.tensor(sourceTensor).\n",
      "  action_batch = torch.tensor(actions, dtype=torch.int64, device=device).unsqueeze(1)\n",
      "C:\\Users\\corvi\\AppData\\Local\\Temp\\ipykernel_9160\\3819250229.py:109: UserWarning: To copy construct from a tensor, it is recommended to use sourceTensor.clone().detach() or sourceTensor.clone().detach().requires_grad_(True), rather than torch.tensor(sourceTensor).\n",
      "  reward_batch = torch.tensor(rewards, dtype=torch.float32, device=device)\n",
      "C:\\Users\\corvi\\AppData\\Local\\Temp\\ipykernel_9160\\3819250229.py:110: UserWarning: To copy construct from a tensor, it is recommended to use sourceTensor.clone().detach() or sourceTensor.clone().detach().requires_grad_(True), rather than torch.tensor(sourceTensor).\n",
      "  next_state_batch = torch.tensor(next_states, dtype=torch.float32, device=device)\n",
      "C:\\Users\\corvi\\AppData\\Local\\Temp\\ipykernel_9160\\3819250229.py:111: UserWarning: To copy construct from a tensor, it is recommended to use sourceTensor.clone().detach() or sourceTensor.clone().detach().requires_grad_(True), rather than torch.tensor(sourceTensor).\n",
      "  done_mask = torch.tensor(dones, dtype=torch.float32, device=device) # zeros out terminated\n"
     ]
    },
    {
     "data": {
      "image/png": "[encoded data removed]",
      "text/plain": [
       "<Figure size 640x480 with 1 Axes>"
      ]
     },
     "metadata": {},
     "output_type": "display_data"
    },
    {
     "name": "stdout",
     "output_type": "stream",
     "text": [
      "[-142.0, -139.0, -141.0, -140.0, -140.0, -139.0]\n"
     ]
    }
   ],
   "source": [
    "# MtnCar.save(\"drpreisl_angustsa_assignment2_part2_dqn_mountaincar.pickle\")\n",
    "total_rewards = MtnCar.train(6, epsilon, discount, action, True)\n",
    "reward_print(total_rewards, 5, \"MountainCar\")\n",
    "print(total_rewards)"
   ]
  },
  {
   "cell_type": "code",
   "execution_count": null,
   "metadata": {
    "ExecuteTime": {
     "end_time": "2024-10-31T21:41:36.703999Z",
     "start_time": "2024-10-31T21:41:36.241784Z"
    },
    "collapsed": false
   },
   "outputs": [],
   "source": [
    "# N = 5000\n",
    "# env = gym.make(\"CartPole-v1\")\n",
    "# env.reset()\n",
    "# cart = DQN(N, env)\n",
    "\n",
    "# episodes = 600\n",
    "# epsilon = .8\n",
    "# discount = .99\n",
    "# action = cart.mountain_car_action\n",
    "# total_rewards = cart.train(episodes, epsilon, discount, action, False)\n",
    "# # cart.save(\"drpreisl_angustsa_assignment2_part2_dqn_cartpole.pickle\")\n",
    "# reward_print(total_rewards, episodes, \"CartPole\")\n",
    "# ep_decay(epsilon, episodes)\n",
    "# total_rewards = cart.train(6, epsilon, discount, action, True)\n",
    "# reward_print(total_rewards, 5, \"CartPole\")"
   ]
  }
 ],
 "metadata": {
  "kernelspec": {
   "display_name": "Python 3",
   "language": "python",
   "name": "python3"
  },
  "language_info": {
   "codemirror_mode": {
    "name": "ipython",
    "version": 3
   },
   "file_extension": ".py",
   "mimetype": "text/x-python",
   "name": "python",
   "nbconvert_exporter": "python",
   "pygments_lexer": "ipython3",
   "version": "3.12.7"
  }
 },
 "nbformat": 4,
 "nbformat_minor": 0
}
